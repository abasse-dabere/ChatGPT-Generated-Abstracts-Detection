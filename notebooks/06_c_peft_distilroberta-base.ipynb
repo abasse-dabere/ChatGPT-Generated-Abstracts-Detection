{
 "cells": [
  {
   "cell_type": "code",
   "execution_count": 1,
   "id": "214e36ce",
   "metadata": {},
   "outputs": [],
   "source": [
    "# !pip install datasets\n",
    "# !pip install peft"
   ]
  },
  {
   "cell_type": "code",
   "execution_count": 2,
   "id": "c9f7e44c",
   "metadata": {},
   "outputs": [],
   "source": [
    "import os\n",
    "# disable tokenizers’ internal parallelism (avoids deadlocks after forking)\n",
    "os.environ[\"TOKENIZERS_PARALLELISM\"] = \"false\""
   ]
  },
  {
   "cell_type": "code",
   "execution_count": 3,
   "id": "0ed7412f",
   "metadata": {},
   "outputs": [
    {
     "name": "stderr",
     "output_type": "stream",
     "text": [
      "/users/eleves-a/2021/abasse.dabere/Desktop/ChatGPT-Generated-Abstracts-Detection/.venv/lib64/python3.9/site-packages/networkx/utils/backends.py:135: RuntimeWarning: networkx backend defined more than once: nx-loopback\n",
      "  backends.update(_get_backends(\"networkx.backends\"))\n"
     ]
    }
   ],
   "source": [
    "import pandas as pd\n",
    "import numpy as np\n",
    "\n",
    "import seaborn as sns\n",
    "import matplotlib.pyplot as plt\n",
    "\n",
    "from sklearn.metrics import roc_auc_score, accuracy_score\n",
    "\n",
    "from datasets import Dataset, DatasetDict\n",
    "from transformers import AutoTokenizer, AutoModelForSequenceClassification, DataCollatorWithPadding, TrainingArguments, Trainer\n",
    "from peft import LoraConfig, TaskType, get_peft_model\n",
    "from scipy.special import softmax"
   ]
  },
  {
   "cell_type": "code",
   "execution_count": 4,
   "id": "e35efcb0",
   "metadata": {},
   "outputs": [],
   "source": [
    "import sys\n",
    "sys.path.append(\"../scripts/\")\n",
    "from utils import plot_confusion_matrix, print_metrics"
   ]
  },
  {
   "cell_type": "code",
   "execution_count": 5,
   "id": "65dc676a",
   "metadata": {},
   "outputs": [],
   "source": [
    "# Get Data\n",
    "data_path = '../data/with_features/'\n",
    "train_data = pd.read_csv(f'{data_path}train.csv')\n",
    "test_data = pd.read_csv(f'{data_path}test.csv')"
   ]
  },
  {
   "cell_type": "code",
   "execution_count": 6,
   "id": "ef00820f",
   "metadata": {},
   "outputs": [
    {
     "data": {
      "text/plain": [
       "Index(['abstract', 'label', 'num_characters', 'word_count', 'sentence_count',\n",
       "       'mean_sentence_length', 'burstiness', 'stop_words_ratio',\n",
       "       'vocabulary_size', 'ttr', 'preprocessed_abstract', 'tfidf_method',\n",
       "       'tfidf_approach', 'tfidf_proposed', 'tfidf_paper', 'tfidf_study',\n",
       "       'tfidf_analysis', 'tfidf_using', 'tfidf_application', 'tfidf_potential',\n",
       "       'tfidf_performance', 'tfidf_network', 'tfidf_algorithm',\n",
       "       'tfidf_feature', 'tfidf_learning', 'tfidf_data', 'tfidf_model',\n",
       "       'tfidf_control', 'tfidf_information', 'tfidf_accuracy',\n",
       "       'tfidf_technique', 'flesch', 'noun_prop', 'det_prop', 'adj_prop',\n",
       "       'aux_prop', 'pron_prop', 'adv_prop', 'punct_prop', 'adp_prop', 'ppl'],\n",
       "      dtype='object')"
      ]
     },
     "execution_count": 6,
     "metadata": {},
     "output_type": "execute_result"
    }
   ],
   "source": [
    "train_data.columns"
   ]
  },
  {
   "cell_type": "markdown",
   "id": "fba43829",
   "metadata": {},
   "source": [
    "## `Human vs Mix`"
   ]
  },
  {
   "cell_type": "code",
   "execution_count": 7,
   "id": "1d5726c8",
   "metadata": {},
   "outputs": [
    {
     "name": "stdout",
     "output_type": "stream",
     "text": [
      "Train shape: (7222, 2)\n",
      "Test shape: (1806, 2)\n"
     ]
    }
   ],
   "source": [
    "# Keep only human and mix labels\n",
    "Z_train = train_data[train_data['label'].isin(['human', 'mix'])].copy()\n",
    "Z_test = test_data[test_data['label'].isin(['human', 'mix'])].copy()\n",
    "\n",
    "Z_train['label'] = Z_train['label'].map({'human': 0, 'mix': 1})\n",
    "Z_test['label'] = Z_test['label'].map({'human': 0, 'mix': 1})\n",
    "\n",
    "# Split the data into human and mix\n",
    "train_h = Z_train[Z_train['label'] == 0]\n",
    "train_f = Z_train[Z_train['label'] == 1]\n",
    "test_h  = Z_test[Z_test['label']  == 0]\n",
    "test_f  = Z_test[Z_test['label']  == 1]\n",
    "\n",
    "# Number of samples in the minority class\n",
    "n_train = min(len(train_h), len(train_f))\n",
    "n_test  = min(len(test_h),  len(test_f))\n",
    "\n",
    "# Undersample the majority class\n",
    "train_h_down = train_h.sample(n_train, replace=False, random_state=42)\n",
    "train_f_down = train_f.sample(n_train, replace=False, random_state=42)\n",
    "test_h_down  = test_h.sample(n_test,  replace=False, random_state=42)\n",
    "test_f_down  = test_f.sample(n_test,  replace=False, random_state=42)\n",
    "\n",
    "# Concatenate the undersampled data\n",
    "Z_train = pd.concat([train_h_down, train_f_down], axis=0)\n",
    "Z_test  = pd.concat([test_h_down, test_f_down], axis=0)\n",
    "\n",
    "Z_train = Z_train[['abstract', 'label']].reset_index(drop=True)\n",
    "Z_test = Z_test[['abstract', 'label']].reset_index(drop=True)\n",
    "\n",
    "print(f\"Train shape: {Z_train.shape}\")\n",
    "print(f\"Test shape: {Z_test.shape}\")"
   ]
  },
  {
   "cell_type": "code",
   "execution_count": 8,
   "id": "d8753d66",
   "metadata": {},
   "outputs": [],
   "source": [
    "# Convert to HuggingFace Dataset\n",
    "\n",
    "raw_datasets = DatasetDict({\n",
    "    \"train\": Dataset.from_pandas(Z_train),\n",
    "    \"validation\": Dataset.from_pandas(Z_test)\n",
    "})"
   ]
  },
  {
   "cell_type": "code",
   "execution_count": 9,
   "id": "2b4fe0cd",
   "metadata": {},
   "outputs": [],
   "source": [
    "# Tokenizer & base model for sequence classification\n",
    "MODEL_NAME = \"distilroberta-base\"\n",
    "tokenizer = AutoTokenizer.from_pretrained(MODEL_NAME)"
   ]
  },
  {
   "cell_type": "code",
   "execution_count": 10,
   "id": "40fcd471",
   "metadata": {},
   "outputs": [
    {
     "name": "stderr",
     "output_type": "stream",
     "text": [
      "Some weights of RobertaForSequenceClassification were not initialized from the model checkpoint at distilroberta-base and are newly initialized: ['classifier.dense.bias', 'classifier.dense.weight', 'classifier.out_proj.bias', 'classifier.out_proj.weight']\n",
      "You should probably TRAIN this model on a down-stream task to be able to use it for predictions and inference.\n"
     ]
    }
   ],
   "source": [
    "base_model = AutoModelForSequenceClassification.from_pretrained(\n",
    "    MODEL_NAME,\n",
    "    num_labels=2,\n",
    ")"
   ]
  },
  {
   "cell_type": "code",
   "execution_count": 11,
   "id": "710bb38a",
   "metadata": {},
   "outputs": [],
   "source": [
    "# Configure LoRA\n",
    "lora_config = LoraConfig(\n",
    "    task_type=TaskType.SEQ_CLS,\n",
    "    inference_mode=False,\n",
    "    r=32,\n",
    "    lora_alpha=32,\n",
    "    lora_dropout=0.1,\n",
    ")\n",
    "\n",
    "model = get_peft_model(base_model, lora_config)"
   ]
  },
  {
   "cell_type": "code",
   "execution_count": null,
   "id": "e5b4e551",
   "metadata": {},
   "outputs": [],
   "source": [
    "model.config.id2label   = {0: \"human\", 1: \"mix\"}\n",
    "model.config.label2id   = {\"human\": 0, \"mix\": 1}"
   ]
  },
  {
   "cell_type": "code",
   "execution_count": 13,
   "id": "ad5adac6",
   "metadata": {},
   "outputs": [
    {
     "data": {
      "application/vnd.jupyter.widget-view+json": {
       "model_id": "38b679bc1fea45f3a88f514a40358322",
       "version_major": 2,
       "version_minor": 0
      },
      "text/plain": [
       "Map:   0%|          | 0/7222 [00:00<?, ? examples/s]"
      ]
     },
     "metadata": {},
     "output_type": "display_data"
    },
    {
     "data": {
      "application/vnd.jupyter.widget-view+json": {
       "model_id": "5c9203cb746c4d26afb436e15b4b5c6c",
       "version_major": 2,
       "version_minor": 0
      },
      "text/plain": [
       "Map:   0%|          | 0/1806 [00:00<?, ? examples/s]"
      ]
     },
     "metadata": {},
     "output_type": "display_data"
    }
   ],
   "source": [
    "# Preprocessing: tokenize abstracts\n",
    "def preprocess_fn(examples):\n",
    "    return tokenizer(examples[\"abstract\"], truncation=True, padding=False)\n",
    "\n",
    "tokenized_datasets = raw_datasets.map(\n",
    "    preprocess_fn,\n",
    "    batched=True,\n",
    "    remove_columns=[c for c in raw_datasets[\"train\"].column_names if c != \"label\"],\n",
    ")\n",
    "\n",
    "tokenized_datasets = tokenized_datasets.rename_column(\"label\", \"labels\")\n",
    "tokenized_datasets.set_format(\n",
    "    type=\"torch\",\n",
    "    columns=[\"input_ids\", \"attention_mask\", \"labels\"]\n",
    ")"
   ]
  },
  {
   "cell_type": "code",
   "execution_count": 14,
   "id": "1d7fd24d",
   "metadata": {},
   "outputs": [],
   "source": [
    "# Data collator for dynamic padding\n",
    "data_collator = DataCollatorWithPadding(tokenizer)"
   ]
  },
  {
   "cell_type": "code",
   "execution_count": 15,
   "id": "ff72c522",
   "metadata": {},
   "outputs": [],
   "source": [
    "# Metrics computation\n",
    "\n",
    "from sklearn.metrics import f1_score, precision_score, recall_score\n",
    "\n",
    "\n",
    "def compute_metrics(eval_pred):\n",
    "    logits, labels = eval_pred\n",
    "    preds = np.argmax(logits, axis=-1)\n",
    "    probs = softmax(logits, axis=-1)[:, 1]\n",
    "\n",
    "    acc = accuracy_score(labels, preds)\n",
    "    auc = roc_auc_score(labels, probs)\n",
    "    return {\n",
    "        \"ACC\": acc,\n",
    "        \"AUC\": auc,\n",
    "    }"
   ]
  },
  {
   "cell_type": "code",
   "execution_count": 16,
   "id": "f6ea2e2f",
   "metadata": {},
   "outputs": [],
   "source": [
    "# Training arguments\n",
    "training_args = TrainingArguments(\n",
    "    output_dir=\"../lora_output/lora-distilroberta-output\",\n",
    "    do_train=True,\n",
    "    do_eval=True,\n",
    "    eval_strategy=\"steps\",\n",
    "    save_strategy=\"steps\",\n",
    "\n",
    "    eval_steps=50,\n",
    "    save_steps=50,\n",
    "    logging_steps=50,\n",
    "\n",
    "    learning_rate=1e-4,\n",
    "    per_device_train_batch_size=128,\n",
    "    per_device_eval_batch_size=128,\n",
    "    num_train_epochs=20,\n",
    "    weight_decay=0.01,\n",
    "\n",
    "    load_best_model_at_end=True,\n",
    "    metric_for_best_model=\"AUC\",\n",
    ")"
   ]
  },
  {
   "cell_type": "code",
   "execution_count": 17,
   "id": "031e4e5b",
   "metadata": {},
   "outputs": [
    {
     "name": "stderr",
     "output_type": "stream",
     "text": [
      "/tmp/ipykernel_2160767/1930133925.py:2: FutureWarning: `tokenizer` is deprecated and will be removed in version 5.0.0 for `Trainer.__init__`. Use `processing_class` instead.\n",
      "  trainer = Trainer(\n",
      "No label_names provided for model class `PeftModelForSequenceClassification`. Since `PeftModel` hides base models input arguments, if label_names is not given, label_names can't be set automatically within `Trainer`. Note that empty label_names list will be used instead.\n"
     ]
    }
   ],
   "source": [
    "# Initialize Trainer\n",
    "trainer = Trainer(\n",
    "    model=model,\n",
    "    args=training_args,\n",
    "    train_dataset=tokenized_datasets[\"train\"],\n",
    "    eval_dataset=tokenized_datasets[\"validation\"],\n",
    "    data_collator=data_collator,\n",
    "    tokenizer=tokenizer,\n",
    "    compute_metrics=compute_metrics,\n",
    ")"
   ]
  },
  {
   "cell_type": "code",
   "execution_count": 18,
   "id": "bb4b3d08",
   "metadata": {},
   "outputs": [],
   "source": [
    "# add label names for the trainer\n",
    "trainer.label_names = [\"labels\"]"
   ]
  },
  {
   "cell_type": "code",
   "execution_count": 19,
   "id": "96a95b15",
   "metadata": {},
   "outputs": [
    {
     "data": {
      "text/html": [
       "\n",
       "    <div>\n",
       "      \n",
       "      <progress value='1140' max='1140' style='width:300px; height:20px; vertical-align: middle;'></progress>\n",
       "      [1140/1140 24:42, Epoch 20/20]\n",
       "    </div>\n",
       "    <table border=\"1\" class=\"dataframe\">\n",
       "  <thead>\n",
       " <tr style=\"text-align: left;\">\n",
       "      <th>Step</th>\n",
       "      <th>Training Loss</th>\n",
       "      <th>Validation Loss</th>\n",
       "      <th>Acc</th>\n",
       "      <th>Auc</th>\n",
       "    </tr>\n",
       "  </thead>\n",
       "  <tbody>\n",
       "    <tr>\n",
       "      <td>50</td>\n",
       "      <td>0.687100</td>\n",
       "      <td>0.671227</td>\n",
       "      <td>0.584164</td>\n",
       "      <td>0.707995</td>\n",
       "    </tr>\n",
       "    <tr>\n",
       "      <td>100</td>\n",
       "      <td>0.639800</td>\n",
       "      <td>0.686165</td>\n",
       "      <td>0.589147</td>\n",
       "      <td>0.746938</td>\n",
       "    </tr>\n",
       "    <tr>\n",
       "      <td>150</td>\n",
       "      <td>0.598300</td>\n",
       "      <td>0.760086</td>\n",
       "      <td>0.577519</td>\n",
       "      <td>0.780338</td>\n",
       "    </tr>\n",
       "    <tr>\n",
       "      <td>200</td>\n",
       "      <td>0.557700</td>\n",
       "      <td>0.909779</td>\n",
       "      <td>0.570321</td>\n",
       "      <td>0.794817</td>\n",
       "    </tr>\n",
       "    <tr>\n",
       "      <td>250</td>\n",
       "      <td>0.543100</td>\n",
       "      <td>0.825342</td>\n",
       "      <td>0.608527</td>\n",
       "      <td>0.811799</td>\n",
       "    </tr>\n",
       "    <tr>\n",
       "      <td>300</td>\n",
       "      <td>0.527700</td>\n",
       "      <td>0.891003</td>\n",
       "      <td>0.596346</td>\n",
       "      <td>0.816927</td>\n",
       "    </tr>\n",
       "    <tr>\n",
       "      <td>350</td>\n",
       "      <td>0.506700</td>\n",
       "      <td>0.932612</td>\n",
       "      <td>0.588594</td>\n",
       "      <td>0.823798</td>\n",
       "    </tr>\n",
       "    <tr>\n",
       "      <td>400</td>\n",
       "      <td>0.490500</td>\n",
       "      <td>0.796671</td>\n",
       "      <td>0.615725</td>\n",
       "      <td>0.830543</td>\n",
       "    </tr>\n",
       "    <tr>\n",
       "      <td>450</td>\n",
       "      <td>0.483900</td>\n",
       "      <td>0.950660</td>\n",
       "      <td>0.586379</td>\n",
       "      <td>0.833298</td>\n",
       "    </tr>\n",
       "    <tr>\n",
       "      <td>500</td>\n",
       "      <td>0.479800</td>\n",
       "      <td>0.891864</td>\n",
       "      <td>0.618494</td>\n",
       "      <td>0.840479</td>\n",
       "    </tr>\n",
       "    <tr>\n",
       "      <td>550</td>\n",
       "      <td>0.468800</td>\n",
       "      <td>1.172621</td>\n",
       "      <td>0.569214</td>\n",
       "      <td>0.837271</td>\n",
       "    </tr>\n",
       "    <tr>\n",
       "      <td>600</td>\n",
       "      <td>0.457600</td>\n",
       "      <td>1.016348</td>\n",
       "      <td>0.589701</td>\n",
       "      <td>0.840307</td>\n",
       "    </tr>\n",
       "    <tr>\n",
       "      <td>650</td>\n",
       "      <td>0.449800</td>\n",
       "      <td>1.008546</td>\n",
       "      <td>0.598560</td>\n",
       "      <td>0.840240</td>\n",
       "    </tr>\n",
       "    <tr>\n",
       "      <td>700</td>\n",
       "      <td>0.448700</td>\n",
       "      <td>0.891530</td>\n",
       "      <td>0.615172</td>\n",
       "      <td>0.845680</td>\n",
       "    </tr>\n",
       "    <tr>\n",
       "      <td>750</td>\n",
       "      <td>0.440600</td>\n",
       "      <td>1.122917</td>\n",
       "      <td>0.594131</td>\n",
       "      <td>0.843593</td>\n",
       "    </tr>\n",
       "    <tr>\n",
       "      <td>800</td>\n",
       "      <td>0.436500</td>\n",
       "      <td>0.950657</td>\n",
       "      <td>0.621816</td>\n",
       "      <td>0.849193</td>\n",
       "    </tr>\n",
       "    <tr>\n",
       "      <td>850</td>\n",
       "      <td>0.435400</td>\n",
       "      <td>1.110868</td>\n",
       "      <td>0.594131</td>\n",
       "      <td>0.846183</td>\n",
       "    </tr>\n",
       "    <tr>\n",
       "      <td>900</td>\n",
       "      <td>0.427600</td>\n",
       "      <td>1.132845</td>\n",
       "      <td>0.598560</td>\n",
       "      <td>0.847739</td>\n",
       "    </tr>\n",
       "    <tr>\n",
       "      <td>950</td>\n",
       "      <td>0.424500</td>\n",
       "      <td>1.162140</td>\n",
       "      <td>0.590808</td>\n",
       "      <td>0.846494</td>\n",
       "    </tr>\n",
       "    <tr>\n",
       "      <td>1000</td>\n",
       "      <td>0.425600</td>\n",
       "      <td>1.056181</td>\n",
       "      <td>0.600775</td>\n",
       "      <td>0.847947</td>\n",
       "    </tr>\n",
       "    <tr>\n",
       "      <td>1050</td>\n",
       "      <td>0.417600</td>\n",
       "      <td>1.159099</td>\n",
       "      <td>0.591362</td>\n",
       "      <td>0.846314</td>\n",
       "    </tr>\n",
       "    <tr>\n",
       "      <td>1100</td>\n",
       "      <td>0.421400</td>\n",
       "      <td>1.126829</td>\n",
       "      <td>0.595238</td>\n",
       "      <td>0.846838</td>\n",
       "    </tr>\n",
       "  </tbody>\n",
       "</table><p>"
      ],
      "text/plain": [
       "<IPython.core.display.HTML object>"
      ]
     },
     "metadata": {},
     "output_type": "display_data"
    },
    {
     "data": {
      "text/plain": [
       "TrainOutput(global_step=1140, training_loss=0.4867938510158606, metrics={'train_runtime': 1483.8245, 'train_samples_per_second': 97.343, 'train_steps_per_second': 0.768, 'total_flos': 1.5281489776050432e+16, 'train_loss': 0.4867938510158606, 'epoch': 20.0})"
      ]
     },
     "execution_count": 19,
     "metadata": {},
     "output_type": "execute_result"
    }
   ],
   "source": [
    "# Fine-tuning\n",
    "trainer.train()"
   ]
  },
  {
   "cell_type": "code",
   "execution_count": 20,
   "id": "219ae6be",
   "metadata": {},
   "outputs": [
    {
     "data": {
      "image/png": "[encoded data removed]",
      "text/plain": [
       "<Figure size 1500x800 with 1 Axes>"
      ]
     },
     "metadata": {},
     "output_type": "display_data"
    }
   ],
   "source": [
    "# Plotting training loss\n",
    "logs = trainer.state.log_history\n",
    "steps = [entry[\"step\"] for entry in logs if \"loss\" in entry]\n",
    "train_losses = [entry[\"loss\"] for entry in logs if \"loss\" in entry]\n",
    "df = pd.DataFrame({\"step\": steps, \"loss\": train_losses})\n",
    "\n",
    "sns.set_theme(style=\"darkgrid\", context=\"talk\")\n",
    "plt.figure(figsize=(15, 8))\n",
    "sns.lineplot(data=df, x=\"step\", y=\"loss\", marker=\"o\", label=\"Training Loss\")\n",
    "plt.xlabel(\"Training step\")\n",
    "plt.ylabel(\"Loss\")\n",
    "plt.title(\"Training Loss Curve\")\n",
    "plt.legend()\n",
    "plt.tight_layout()\n",
    "plt.show()"
   ]
  },
  {
   "cell_type": "code",
   "execution_count": 21,
   "id": "06dc01f8",
   "metadata": {},
   "outputs": [
    {
     "data": {
      "text/html": [],
      "text/plain": [
       "<IPython.core.display.HTML object>"
      ]
     },
     "metadata": {},
     "output_type": "display_data"
    }
   ],
   "source": [
    "# Evaluation\n",
    "pred_output = trainer.predict(tokenized_datasets[\"validation\"])\n",
    "y_proba = softmax(pred_output.predictions , axis=-1)[:, 1]\n",
    "\n",
    "y_pred = pred_output.predictions.argmax(-1)\n",
    "y_test = tokenized_datasets[\"validation\"][\"labels\"]"
   ]
  },
  {
   "cell_type": "code",
   "execution_count": 22,
   "id": "16fc2a5b",
   "metadata": {},
   "outputs": [
    {
     "name": "stdout",
     "output_type": "stream",
     "text": [
      "Accuracy: 0.6218\n",
      "AUC: 0.8492\n"
     ]
    }
   ],
   "source": [
    "# print Accuracy and AUC\n",
    "print_metrics(np.array(y_test), y_pred, y_proba)"
   ]
  },
  {
   "cell_type": "code",
   "execution_count": 26,
   "id": "3abdc97b",
   "metadata": {},
   "outputs": [
    {
     "data": {
      "image/png": "[encoded data removed]",
      "text/plain": [
       "<Figure size 800x600 with 1 Axes>"
      ]
     },
     "metadata": {},
     "output_type": "display_data"
    }
   ],
   "source": [
    "# Plot confusion matrix\n",
    "plot_confusion_matrix(y_test, y_pred, labels=['human', 'mix'])"
   ]
  },
  {
   "cell_type": "code",
   "execution_count": 25,
   "id": "a38f71d1",
   "metadata": {},
   "outputs": [
    {
     "data": {
      "text/plain": [
       "('../models/human_vs_mix/lora-distilroberta-tokenizer/tokenizer_config.json',\n",
       " '../models/human_vs_mix/lora-distilroberta-tokenizer/special_tokens_map.json',\n",
       " '../models/human_vs_mix/lora-distilroberta-tokenizer/vocab.json',\n",
       " '../models/human_vs_mix/lora-distilroberta-tokenizer/merges.txt',\n",
       " '../models/human_vs_mix/lora-distilroberta-tokenizer/added_tokens.json',\n",
       " '../models/human_vs_mix/lora-distilroberta-tokenizer/tokenizer.json')"
      ]
     },
     "execution_count": 25,
     "metadata": {},
     "output_type": "execute_result"
    }
   ],
   "source": [
    "# Save\n",
    "model.save_pretrained(\"../models/human_vs_mix/lora-distilroberta-model\")\n",
    "tokenizer.save_pretrained(\"../models/human_vs_mix/lora-distilroberta-tokenizer\")"
   ]
  },
  {
   "cell_type": "code",
   "execution_count": null,
   "id": "6817712f",
   "metadata": {},
   "outputs": [],
   "source": []
  }
 ],
 "metadata": {
  "kernelspec": {
   "display_name": ".venv",
   "language": "python",
   "name": "python3"
  },
  "language_info": {
   "codemirror_mode": {
    "name": "ipython",
    "version": 3
   },
   "file_extension": ".py",
   "mimetype": "text/x-python",
   "name": "python",
   "nbconvert_exporter": "python",
   "pygments_lexer": "ipython3",
   "version": "3.9.21"
  }
 },
 "nbformat": 4,
 "nbformat_minor": 5
}
