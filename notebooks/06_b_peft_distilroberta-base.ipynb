{
 "cells": [
  {
   "cell_type": "code",
   "execution_count": 21,
   "id": "214e36ce",
   "metadata": {},
   "outputs": [],
   "source": [
    "# !pip install datasets\n",
    "# !pip install peft"
   ]
  },
  {
   "cell_type": "code",
   "execution_count": 22,
   "id": "c9f7e44c",
   "metadata": {},
   "outputs": [],
   "source": [
    "import os\n",
    "# disable tokenizers’ internal parallelism (avoids deadlocks after forking)\n",
    "os.environ[\"TOKENIZERS_PARALLELISM\"] = \"false\""
   ]
  },
  {
   "cell_type": "code",
   "execution_count": 23,
   "id": "0ed7412f",
   "metadata": {},
   "outputs": [],
   "source": [
    "import pandas as pd\n",
    "import numpy as np\n",
    "\n",
    "import seaborn as sns\n",
    "import matplotlib.pyplot as plt\n",
    "\n",
    "from sklearn.metrics import roc_auc_score, accuracy_score\n",
    "\n",
    "from datasets import Dataset, DatasetDict\n",
    "from transformers import AutoTokenizer, AutoModelForSequenceClassification, DataCollatorWithPadding, TrainingArguments, Trainer\n",
    "from peft import LoraConfig, TaskType, get_peft_model\n",
    "from scipy.special import softmax"
   ]
  },
  {
   "cell_type": "code",
   "execution_count": 24,
   "id": "e35efcb0",
   "metadata": {},
   "outputs": [],
   "source": [
    "import sys\n",
    "sys.path.append(\"../scripts/\")\n",
    "from utils import plot_confusion_matrix, print_metrics"
   ]
  },
  {
   "cell_type": "code",
   "execution_count": 25,
   "id": "65dc676a",
   "metadata": {},
   "outputs": [],
   "source": [
    "# Get Data\n",
    "data_path = '../data/with_features/'\n",
    "train_data = pd.read_csv(f'{data_path}train.csv')\n",
    "test_data = pd.read_csv(f'{data_path}test.csv')"
   ]
  },
  {
   "cell_type": "code",
   "execution_count": 26,
   "id": "ef00820f",
   "metadata": {},
   "outputs": [
    {
     "data": {
      "text/plain": [
       "Index(['abstract', 'label', 'num_characters', 'word_count', 'sentence_count',\n",
       "       'mean_sentence_length', 'burstiness', 'stop_words_ratio',\n",
       "       'vocabulary_size', 'ttr', 'preprocessed_abstract', 'tfidf_method',\n",
       "       'tfidf_approach', 'tfidf_proposed', 'tfidf_paper', 'tfidf_study',\n",
       "       'tfidf_analysis', 'tfidf_using', 'tfidf_application', 'tfidf_potential',\n",
       "       'tfidf_performance', 'tfidf_network', 'tfidf_algorithm',\n",
       "       'tfidf_feature', 'tfidf_learning', 'tfidf_data', 'tfidf_model',\n",
       "       'tfidf_control', 'tfidf_information', 'tfidf_accuracy',\n",
       "       'tfidf_technique', 'flesch', 'noun_prop', 'det_prop', 'adj_prop',\n",
       "       'aux_prop', 'pron_prop', 'adv_prop', 'punct_prop', 'adp_prop', 'ppl'],\n",
       "      dtype='object')"
      ]
     },
     "execution_count": 26,
     "metadata": {},
     "output_type": "execute_result"
    }
   ],
   "source": [
    "train_data.columns"
   ]
  },
  {
   "cell_type": "markdown",
   "id": "fba43829",
   "metadata": {},
   "source": [
    "## `Human vs Polish`"
   ]
  },
  {
   "cell_type": "code",
   "execution_count": 27,
   "id": "c21ef470",
   "metadata": {},
   "outputs": [],
   "source": [
    "# Keep only human and polish labels\n",
    "Z_train = train_data[train_data['label'].isin(['human', 'polish'])].copy()\n",
    "Z_test = test_data[test_data['label'].isin(['human', 'polish'])].copy()\n",
    "\n",
    "Z_train['label'] = Z_train['label'].map({'human': 0, 'polish': 1})\n",
    "Z_test['label'] = Z_test['label'].map({'human': 0, 'polish': 1})\n",
    "\n",
    "Z_train = Z_train[['abstract', 'label']].reset_index(drop=True)\n",
    "Z_test = Z_test[['abstract', 'label']].reset_index(drop=True)"
   ]
  },
  {
   "cell_type": "code",
   "execution_count": 28,
   "id": "d8753d66",
   "metadata": {},
   "outputs": [],
   "source": [
    "# Convert to HuggingFace Dataset\n",
    "\n",
    "raw_datasets = DatasetDict({\n",
    "    \"train\": Dataset.from_pandas(Z_train),\n",
    "    \"validation\": Dataset.from_pandas(Z_test)\n",
    "})"
   ]
  },
  {
   "cell_type": "code",
   "execution_count": 29,
   "id": "2b4fe0cd",
   "metadata": {},
   "outputs": [],
   "source": [
    "# Tokenizer & base model for sequence classification\n",
    "MODEL_NAME = \"distilroberta-base\"\n",
    "tokenizer = AutoTokenizer.from_pretrained(MODEL_NAME)"
   ]
  },
  {
   "cell_type": "code",
   "execution_count": 30,
   "id": "40fcd471",
   "metadata": {},
   "outputs": [
    {
     "name": "stderr",
     "output_type": "stream",
     "text": [
      "Some weights of RobertaForSequenceClassification were not initialized from the model checkpoint at distilroberta-base and are newly initialized: ['classifier.dense.bias', 'classifier.dense.weight', 'classifier.out_proj.bias', 'classifier.out_proj.weight']\n",
      "You should probably TRAIN this model on a down-stream task to be able to use it for predictions and inference.\n"
     ]
    }
   ],
   "source": [
    "base_model = AutoModelForSequenceClassification.from_pretrained(\n",
    "    MODEL_NAME,\n",
    "    num_labels=2,\n",
    ")"
   ]
  },
  {
   "cell_type": "code",
   "execution_count": 31,
   "id": "710bb38a",
   "metadata": {},
   "outputs": [],
   "source": [
    "# Configure LoRA\n",
    "lora_config = LoraConfig(\n",
    "    task_type=TaskType.SEQ_CLS,\n",
    "    inference_mode=False,\n",
    "    r=8,\n",
    "    lora_alpha=32,\n",
    "    lora_dropout=0.1,\n",
    ")\n",
    "\n",
    "model = get_peft_model(base_model, lora_config)"
   ]
  },
  {
   "cell_type": "code",
   "execution_count": 32,
   "id": "e5b4e551",
   "metadata": {},
   "outputs": [],
   "source": [
    "model.config.id2label   = {0: \"human\", 1: \"polish\"}\n",
    "model.config.label2id   = {\"human\": 0, \"polish\": 1}"
   ]
  },
  {
   "cell_type": "code",
   "execution_count": 33,
   "id": "ad5adac6",
   "metadata": {},
   "outputs": [
    {
     "data": {
      "application/vnd.jupyter.widget-view+json": {
       "model_id": "3c1dc750e9e84807b5add68b3e0257e1",
       "version_major": 2,
       "version_minor": 0
      },
      "text/plain": [
       "Map:   0%|          | 0/24632 [00:00<?, ? examples/s]"
      ]
     },
     "metadata": {},
     "output_type": "display_data"
    },
    {
     "data": {
      "application/vnd.jupyter.widget-view+json": {
       "model_id": "61ff324d2d024365a22e55310cc3afe2",
       "version_major": 2,
       "version_minor": 0
      },
      "text/plain": [
       "Map:   0%|          | 0/6158 [00:00<?, ? examples/s]"
      ]
     },
     "metadata": {},
     "output_type": "display_data"
    }
   ],
   "source": [
    "# Preprocessing: tokenize abstracts\n",
    "def preprocess_fn(examples):\n",
    "    return tokenizer(examples[\"abstract\"], truncation=True, padding=False)\n",
    "\n",
    "tokenized_datasets = raw_datasets.map(\n",
    "    preprocess_fn,\n",
    "    batched=True,\n",
    "    remove_columns=[c for c in raw_datasets[\"train\"].column_names if c != \"label\"],\n",
    ")\n",
    "\n",
    "tokenized_datasets = tokenized_datasets.rename_column(\"label\", \"labels\")\n",
    "tokenized_datasets.set_format(\n",
    "    type=\"torch\",\n",
    "    columns=[\"input_ids\", \"attention_mask\", \"labels\"]\n",
    ")"
   ]
  },
  {
   "cell_type": "code",
   "execution_count": 34,
   "id": "1d7fd24d",
   "metadata": {},
   "outputs": [],
   "source": [
    "# Data collator for dynamic padding\n",
    "data_collator = DataCollatorWithPadding(tokenizer)"
   ]
  },
  {
   "cell_type": "code",
   "execution_count": 35,
   "id": "ff72c522",
   "metadata": {},
   "outputs": [],
   "source": [
    "# Metrics computation\n",
    "\n",
    "from sklearn.metrics import f1_score, precision_score, recall_score\n",
    "\n",
    "\n",
    "def compute_metrics(eval_pred):\n",
    "    logits, labels = eval_pred\n",
    "    preds = np.argmax(logits, axis=-1)\n",
    "    probs = softmax(logits, axis=-1)[:, 1]\n",
    "\n",
    "    acc = accuracy_score(labels, preds)\n",
    "    auc = roc_auc_score(labels, probs)\n",
    "    return {\n",
    "        \"ACC\": acc,\n",
    "        \"AUC\": auc,\n",
    "    }"
   ]
  },
  {
   "cell_type": "code",
   "execution_count": 36,
   "id": "f6ea2e2f",
   "metadata": {},
   "outputs": [],
   "source": [
    "# Training arguments\n",
    "training_args = TrainingArguments(\n",
    "    output_dir=\"../lora_output/lora-distilroberta-output\",\n",
    "    do_train=True,\n",
    "    do_eval=True,\n",
    "    eval_strategy=\"steps\",\n",
    "    save_strategy=\"steps\",\n",
    "\n",
    "    eval_steps=200,\n",
    "    save_steps=200,\n",
    "    logging_steps=50,\n",
    "\n",
    "    learning_rate=1e-4,\n",
    "    per_device_train_batch_size=128,\n",
    "    per_device_eval_batch_size=128,\n",
    "    num_train_epochs=5,\n",
    "    weight_decay=0.01,\n",
    "\n",
    "    load_best_model_at_end=True,\n",
    "    metric_for_best_model=\"AUC\",\n",
    ")"
   ]
  },
  {
   "cell_type": "code",
   "execution_count": 37,
   "id": "031e4e5b",
   "metadata": {},
   "outputs": [
    {
     "name": "stderr",
     "output_type": "stream",
     "text": [
      "/tmp/ipykernel_2142359/1930133925.py:2: FutureWarning: `tokenizer` is deprecated and will be removed in version 5.0.0 for `Trainer.__init__`. Use `processing_class` instead.\n",
      "  trainer = Trainer(\n",
      "No label_names provided for model class `PeftModelForSequenceClassification`. Since `PeftModel` hides base models input arguments, if label_names is not given, label_names can't be set automatically within `Trainer`. Note that empty label_names list will be used instead.\n"
     ]
    }
   ],
   "source": [
    "# Initialize Trainer\n",
    "trainer = Trainer(\n",
    "    model=model,\n",
    "    args=training_args,\n",
    "    train_dataset=tokenized_datasets[\"train\"],\n",
    "    eval_dataset=tokenized_datasets[\"validation\"],\n",
    "    data_collator=data_collator,\n",
    "    tokenizer=tokenizer,\n",
    "    compute_metrics=compute_metrics,\n",
    ")"
   ]
  },
  {
   "cell_type": "code",
   "execution_count": 38,
   "id": "bb4b3d08",
   "metadata": {},
   "outputs": [],
   "source": [
    "# add label names for the trainer\n",
    "trainer.label_names = [\"labels\"]"
   ]
  },
  {
   "cell_type": "code",
   "execution_count": 39,
   "id": "96a95b15",
   "metadata": {},
   "outputs": [
    {
     "data": {
      "text/html": [
       "\n",
       "    <div>\n",
       "      \n",
       "      <progress value='965' max='965' style='width:300px; height:20px; vertical-align: middle;'></progress>\n",
       "      [965/965 21:19, Epoch 5/5]\n",
       "    </div>\n",
       "    <table border=\"1\" class=\"dataframe\">\n",
       "  <thead>\n",
       " <tr style=\"text-align: left;\">\n",
       "      <th>Step</th>\n",
       "      <th>Training Loss</th>\n",
       "      <th>Validation Loss</th>\n",
       "      <th>Acc</th>\n",
       "      <th>Auc</th>\n",
       "    </tr>\n",
       "  </thead>\n",
       "  <tbody>\n",
       "    <tr>\n",
       "      <td>200</td>\n",
       "      <td>0.202700</td>\n",
       "      <td>0.752124</td>\n",
       "      <td>0.731406</td>\n",
       "      <td>0.981859</td>\n",
       "    </tr>\n",
       "    <tr>\n",
       "      <td>400</td>\n",
       "      <td>0.166000</td>\n",
       "      <td>0.976808</td>\n",
       "      <td>0.694057</td>\n",
       "      <td>0.984809</td>\n",
       "    </tr>\n",
       "    <tr>\n",
       "      <td>600</td>\n",
       "      <td>0.135600</td>\n",
       "      <td>0.741744</td>\n",
       "      <td>0.761773</td>\n",
       "      <td>0.988291</td>\n",
       "    </tr>\n",
       "    <tr>\n",
       "      <td>800</td>\n",
       "      <td>0.142800</td>\n",
       "      <td>0.887277</td>\n",
       "      <td>0.739201</td>\n",
       "      <td>0.989241</td>\n",
       "    </tr>\n",
       "  </tbody>\n",
       "</table><p>"
      ],
      "text/plain": [
       "<IPython.core.display.HTML object>"
      ]
     },
     "metadata": {},
     "output_type": "display_data"
    },
    {
     "data": {
      "text/plain": [
       "TrainOutput(global_step=965, training_loss=0.19095435661355448, metrics={'train_runtime': 1281.0778, 'train_samples_per_second': 96.138, 'train_steps_per_second': 0.753, 'total_flos': 1.346196150940992e+16, 'train_loss': 0.19095435661355448, 'epoch': 5.0})"
      ]
     },
     "execution_count": 39,
     "metadata": {},
     "output_type": "execute_result"
    }
   ],
   "source": [
    "# Fine-tuning\n",
    "trainer.train()"
   ]
  },
  {
   "cell_type": "code",
   "execution_count": 40,
   "id": "219ae6be",
   "metadata": {},
   "outputs": [
    {
     "data": {
      "image/png": "[encoded data removed]",
      "text/plain": [
       "<Figure size 1500x800 with 1 Axes>"
      ]
     },
     "metadata": {},
     "output_type": "display_data"
    }
   ],
   "source": [
    "# Plotting training loss\n",
    "logs = trainer.state.log_history\n",
    "steps = [entry[\"step\"] for entry in logs if \"loss\" in entry]\n",
    "train_losses = [entry[\"loss\"] for entry in logs if \"loss\" in entry]\n",
    "df = pd.DataFrame({\"step\": steps, \"loss\": train_losses})\n",
    "\n",
    "sns.set_theme(style=\"darkgrid\", context=\"talk\")\n",
    "plt.figure(figsize=(15, 8))\n",
    "sns.lineplot(data=df, x=\"step\", y=\"loss\", marker=\"o\", label=\"Training Loss\")\n",
    "plt.xlabel(\"Training step\")\n",
    "plt.ylabel(\"Loss\")\n",
    "plt.title(\"Training Loss Curve\")\n",
    "plt.legend()\n",
    "plt.tight_layout()\n",
    "plt.show()"
   ]
  },
  {
   "cell_type": "code",
   "execution_count": 41,
   "id": "06dc01f8",
   "metadata": {},
   "outputs": [
    {
     "data": {
      "text/html": [],
      "text/plain": [
       "<IPython.core.display.HTML object>"
      ]
     },
     "metadata": {},
     "output_type": "display_data"
    }
   ],
   "source": [
    "# Evaluation\n",
    "pred_output = trainer.predict(tokenized_datasets[\"validation\"])\n",
    "y_proba = softmax(pred_output.predictions , axis=-1)[:, 1]\n",
    "\n",
    "y_pred = pred_output.predictions.argmax(-1)\n",
    "y_test = tokenized_datasets[\"validation\"][\"labels\"]"
   ]
  },
  {
   "cell_type": "code",
   "execution_count": 42,
   "id": "16fc2a5b",
   "metadata": {},
   "outputs": [
    {
     "name": "stdout",
     "output_type": "stream",
     "text": [
      "Accuracy: 0.7392\n",
      "AUC: 0.9892\n"
     ]
    }
   ],
   "source": [
    "# print Accuracy and AUC\n",
    "print_metrics(np.array(y_test), y_pred, y_proba)"
   ]
  },
  {
   "cell_type": "code",
   "execution_count": 43,
   "id": "3abdc97b",
   "metadata": {},
   "outputs": [
    {
     "data": {
      "image/png": "[encoded data removed]",
      "text/plain": [
       "<Figure size 800x600 with 1 Axes>"
      ]
     },
     "metadata": {},
     "output_type": "display_data"
    }
   ],
   "source": [
    "# Plot confusion matrix\n",
    "plot_confusion_matrix(y_test, y_pred, labels=['human', 'polish'])"
   ]
  },
  {
   "cell_type": "code",
   "execution_count": 44,
   "id": "a38f71d1",
   "metadata": {},
   "outputs": [
    {
     "data": {
      "text/plain": [
       "('../models/human_vs_polish/lora-distilroberta-tokenizer/tokenizer_config.json',\n",
       " '../models/human_vs_polish/lora-distilroberta-tokenizer/special_tokens_map.json',\n",
       " '../models/human_vs_polish/lora-distilroberta-tokenizer/vocab.json',\n",
       " '../models/human_vs_polish/lora-distilroberta-tokenizer/merges.txt',\n",
       " '../models/human_vs_polish/lora-distilroberta-tokenizer/added_tokens.json',\n",
       " '../models/human_vs_polish/lora-distilroberta-tokenizer/tokenizer.json')"
      ]
     },
     "execution_count": 44,
     "metadata": {},
     "output_type": "execute_result"
    }
   ],
   "source": [
    "# Save\n",
    "model.save_pretrained(\"../models/human_vs_polish/lora-distilroberta-model\")\n",
    "tokenizer.save_pretrained(\"../models/human_vs_polish/lora-distilroberta-tokenizer\")"
   ]
  },
  {
   "cell_type": "code",
   "execution_count": null,
   "id": "6817712f",
   "metadata": {},
   "outputs": [],
   "source": []
  }
 ],
 "metadata": {
  "kernelspec": {
   "display_name": ".venv",
   "language": "python",
   "name": "python3"
  },
  "language_info": {
   "codemirror_mode": {
    "name": "ipython",
    "version": 3
   },
   "file_extension": ".py",
   "mimetype": "text/x-python",
   "name": "python",
   "nbconvert_exporter": "python",
   "pygments_lexer": "ipython3",
   "version": "3.9.21"
  }
 },
 "nbformat": 4,
 "nbformat_minor": 5
}
