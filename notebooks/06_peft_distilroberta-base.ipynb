{
 "cells": [
  {
   "cell_type": "code",
   "execution_count": 1,
   "id": "214e36ce",
   "metadata": {},
   "outputs": [],
   "source": [
    "# !pip install datasets\n",
    "# !pip install peft"
   ]
  },
  {
   "cell_type": "code",
   "execution_count": 2,
   "id": "c9f7e44c",
   "metadata": {},
   "outputs": [],
   "source": [
    "import os\n",
    "# disable tokenizers’ internal parallelism (avoids deadlocks after forking)\n",
    "os.environ[\"TOKENIZERS_PARALLELISM\"] = \"false\""
   ]
  },
  {
   "cell_type": "code",
   "execution_count": 3,
   "id": "0ed7412f",
   "metadata": {},
   "outputs": [
    {
     "name": "stderr",
     "output_type": "stream",
     "text": [
      "/users/eleves-a/2021/abasse.dabere/Desktop/ChatGPT-Generated-Abstracts-Detection/.venv/lib64/python3.9/site-packages/networkx/utils/backends.py:135: RuntimeWarning: networkx backend defined more than once: nx-loopback\n",
      "  backends.update(_get_backends(\"networkx.backends\"))\n"
     ]
    }
   ],
   "source": [
    "import pandas as pd\n",
    "import numpy as np\n",
    "\n",
    "import seaborn as sns\n",
    "import matplotlib.pyplot as plt\n",
    "\n",
    "from sklearn.metrics import roc_auc_score, accuracy_score\n",
    "\n",
    "from datasets import Dataset, DatasetDict\n",
    "from transformers import AutoTokenizer, AutoModelForSequenceClassification, DataCollatorWithPadding, TrainingArguments, Trainer\n",
    "from peft import LoraConfig, TaskType, get_peft_model\n",
    "from scipy.special import softmax"
   ]
  },
  {
   "cell_type": "code",
   "execution_count": 4,
   "id": "e35efcb0",
   "metadata": {},
   "outputs": [],
   "source": [
    "import sys\n",
    "sys.path.append(\"../scripts/\")\n",
    "from utils import plot_confusion_matrix, print_metrics"
   ]
  },
  {
   "cell_type": "code",
   "execution_count": 5,
   "id": "65dc676a",
   "metadata": {},
   "outputs": [],
   "source": [
    "# Get Data\n",
    "data_path = '../data/with_features/'\n",
    "train_data = pd.read_csv(f'{data_path}train.csv')\n",
    "test_data = pd.read_csv(f'{data_path}test.csv')"
   ]
  },
  {
   "cell_type": "code",
   "execution_count": 6,
   "id": "ef00820f",
   "metadata": {},
   "outputs": [
    {
     "data": {
      "text/plain": [
       "Index(['abstract', 'label', 'num_characters', 'word_count', 'sentence_count',\n",
       "       'mean_sentence_length', 'burstiness', 'stop_words_ratio',\n",
       "       'vocabulary_size', 'ttr', 'preprocessed_abstract', 'tfidf_method',\n",
       "       'tfidf_approach', 'tfidf_proposed', 'tfidf_paper', 'tfidf_study',\n",
       "       'tfidf_analysis', 'tfidf_using', 'tfidf_application', 'tfidf_potential',\n",
       "       'tfidf_performance', 'tfidf_network', 'tfidf_algorithm',\n",
       "       'tfidf_feature', 'tfidf_learning', 'tfidf_data', 'tfidf_model',\n",
       "       'tfidf_control', 'tfidf_information', 'tfidf_accuracy',\n",
       "       'tfidf_technique', 'flesch', 'noun_prop', 'det_prop', 'adj_prop',\n",
       "       'aux_prop', 'pron_prop', 'adv_prop', 'punct_prop', 'adp_prop', 'ppl'],\n",
       "      dtype='object')"
      ]
     },
     "execution_count": 6,
     "metadata": {},
     "output_type": "execute_result"
    }
   ],
   "source": [
    "train_data.columns"
   ]
  },
  {
   "cell_type": "markdown",
   "id": "fba43829",
   "metadata": {},
   "source": [
    "## `Human vs Generation`"
   ]
  },
  {
   "cell_type": "code",
   "execution_count": 7,
   "id": "c21ef470",
   "metadata": {},
   "outputs": [],
   "source": [
    "# Keep only human and generation labels\n",
    "Z_train = train_data[train_data['label'].isin(['human', 'generation'])].copy()\n",
    "Z_test = test_data[test_data['label'].isin(['human', 'generation'])].copy()\n",
    "\n",
    "Z_train['label'] = Z_train['label'].map({'human': 0, 'generation': 1})\n",
    "Z_test['label'] = Z_test['label'].map({'human': 0, 'generation': 1})\n",
    "\n",
    "Z_train = Z_train[['abstract', 'label']].reset_index(drop=True)\n",
    "Z_test = Z_test[['abstract', 'label']].reset_index(drop=True)"
   ]
  },
  {
   "cell_type": "code",
   "execution_count": 8,
   "id": "d8753d66",
   "metadata": {},
   "outputs": [],
   "source": [
    "# Convert to HuggingFace Dataset\n",
    "\n",
    "raw_datasets = DatasetDict({\n",
    "    \"train\": Dataset.from_pandas(Z_train),\n",
    "    \"validation\": Dataset.from_pandas(Z_test)\n",
    "})"
   ]
  },
  {
   "cell_type": "code",
   "execution_count": 9,
   "id": "2b4fe0cd",
   "metadata": {},
   "outputs": [],
   "source": [
    "# Tokenizer & base model for sequence classification\n",
    "MODEL_NAME = \"distilroberta-base\"\n",
    "tokenizer = AutoTokenizer.from_pretrained(MODEL_NAME)"
   ]
  },
  {
   "cell_type": "code",
   "execution_count": 10,
   "id": "40fcd471",
   "metadata": {},
   "outputs": [
    {
     "name": "stderr",
     "output_type": "stream",
     "text": [
      "Some weights of RobertaForSequenceClassification were not initialized from the model checkpoint at distilroberta-base and are newly initialized: ['classifier.dense.bias', 'classifier.dense.weight', 'classifier.out_proj.bias', 'classifier.out_proj.weight']\n",
      "You should probably TRAIN this model on a down-stream task to be able to use it for predictions and inference.\n"
     ]
    }
   ],
   "source": [
    "base_model = AutoModelForSequenceClassification.from_pretrained(\n",
    "    MODEL_NAME,\n",
    "    num_labels=2,\n",
    ")"
   ]
  },
  {
   "cell_type": "code",
   "execution_count": 11,
   "id": "710bb38a",
   "metadata": {},
   "outputs": [],
   "source": [
    "# Configure LoRA\n",
    "lora_config = LoraConfig(\n",
    "    task_type=TaskType.SEQ_CLS,\n",
    "    inference_mode=False,\n",
    "    r=8,\n",
    "    lora_alpha=32,\n",
    "    lora_dropout=0.1,\n",
    ")\n",
    "\n",
    "model = get_peft_model(base_model, lora_config)"
   ]
  },
  {
   "cell_type": "code",
   "execution_count": 12,
   "id": "e5b4e551",
   "metadata": {},
   "outputs": [],
   "source": [
    "model.config.id2label   = {0: \"human\", 1: \"generation\"}\n",
    "model.config.label2id   = {\"human\": 0, \"generation\": 1}"
   ]
  },
  {
   "cell_type": "code",
   "execution_count": 13,
   "id": "ad5adac6",
   "metadata": {},
   "outputs": [
    {
     "data": {
      "application/vnd.jupyter.widget-view+json": {
       "model_id": "5ddcc1ded63b40aa8365973b7c64ce7f",
       "version_major": 2,
       "version_minor": 0
      },
      "text/plain": [
       "Map:   0%|          | 0/24632 [00:00<?, ? examples/s]"
      ]
     },
     "metadata": {},
     "output_type": "display_data"
    },
    {
     "data": {
      "application/vnd.jupyter.widget-view+json": {
       "model_id": "b177d4626473475cb0c94c5a31299c80",
       "version_major": 2,
       "version_minor": 0
      },
      "text/plain": [
       "Map:   0%|          | 0/6158 [00:00<?, ? examples/s]"
      ]
     },
     "metadata": {},
     "output_type": "display_data"
    }
   ],
   "source": [
    "# Preprocessing: tokenize abstracts\n",
    "def preprocess_fn(examples):\n",
    "    return tokenizer(examples[\"abstract\"], truncation=True, padding=False)\n",
    "\n",
    "tokenized_datasets = raw_datasets.map(\n",
    "    preprocess_fn,\n",
    "    batched=True,\n",
    "    remove_columns=[c for c in raw_datasets[\"train\"].column_names if c != \"label\"],\n",
    ")\n",
    "\n",
    "tokenized_datasets = tokenized_datasets.rename_column(\"label\", \"labels\")\n",
    "tokenized_datasets.set_format(\n",
    "    type=\"torch\",\n",
    "    columns=[\"input_ids\", \"attention_mask\", \"labels\"]\n",
    ")"
   ]
  },
  {
   "cell_type": "code",
   "execution_count": 14,
   "id": "1d7fd24d",
   "metadata": {},
   "outputs": [],
   "source": [
    "# Data collator for dynamic padding\n",
    "data_collator = DataCollatorWithPadding(tokenizer)"
   ]
  },
  {
   "cell_type": "code",
   "execution_count": 15,
   "id": "ff72c522",
   "metadata": {},
   "outputs": [],
   "source": [
    "# Metrics computation\n",
    "\n",
    "from sklearn.metrics import f1_score, precision_score, recall_score\n",
    "\n",
    "\n",
    "def compute_metrics(eval_pred):\n",
    "    logits, labels = eval_pred\n",
    "    preds = np.argmax(logits, axis=-1)\n",
    "    probs = softmax(logits, axis=-1)[:, 1]\n",
    "\n",
    "    acc = accuracy_score(labels, preds)\n",
    "    auc = roc_auc_score(labels, probs)\n",
    "    return {\n",
    "        \"ACC\": acc,\n",
    "        \"AUC\": auc,\n",
    "    }"
   ]
  },
  {
   "cell_type": "code",
   "execution_count": 16,
   "id": "f6ea2e2f",
   "metadata": {},
   "outputs": [],
   "source": [
    "# Training arguments\n",
    "training_args = TrainingArguments(\n",
    "    output_dir=\"../lora_output/lora-distilroberta-output\",\n",
    "    do_train=True,\n",
    "    do_eval=True,\n",
    "    eval_strategy=\"steps\",\n",
    "    save_strategy=\"steps\",\n",
    "\n",
    "    eval_steps=200,\n",
    "    save_steps=200,\n",
    "    logging_steps=50,\n",
    "\n",
    "    learning_rate=1e-4,\n",
    "    per_device_train_batch_size=128,\n",
    "    per_device_eval_batch_size=128,\n",
    "    num_train_epochs=5,\n",
    "    weight_decay=0.01,\n",
    "\n",
    "    load_best_model_at_end=True,\n",
    "    metric_for_best_model=\"AUC\",\n",
    ")"
   ]
  },
  {
   "cell_type": "code",
   "execution_count": 17,
   "id": "031e4e5b",
   "metadata": {},
   "outputs": [
    {
     "name": "stderr",
     "output_type": "stream",
     "text": [
      "/tmp/ipykernel_2933584/1930133925.py:2: FutureWarning: `tokenizer` is deprecated and will be removed in version 5.0.0 for `Trainer.__init__`. Use `processing_class` instead.\n",
      "  trainer = Trainer(\n",
      "No label_names provided for model class `PeftModelForSequenceClassification`. Since `PeftModel` hides base models input arguments, if label_names is not given, label_names can't be set automatically within `Trainer`. Note that empty label_names list will be used instead.\n"
     ]
    }
   ],
   "source": [
    "# Initialize Trainer\n",
    "trainer = Trainer(\n",
    "    model=model,\n",
    "    args=training_args,\n",
    "    train_dataset=tokenized_datasets[\"train\"],\n",
    "    eval_dataset=tokenized_datasets[\"validation\"],\n",
    "    data_collator=data_collator,\n",
    "    tokenizer=tokenizer,\n",
    "    compute_metrics=compute_metrics,\n",
    ")"
   ]
  },
  {
   "cell_type": "code",
   "execution_count": 18,
   "id": "bb4b3d08",
   "metadata": {},
   "outputs": [],
   "source": [
    "# add label names for the trainer\n",
    "trainer.label_names = [\"labels\"]"
   ]
  },
  {
   "cell_type": "code",
   "execution_count": null,
   "id": "96a95b15",
   "metadata": {},
   "outputs": [
    {
     "data": {
      "text/html": [
       "\n",
       "    <div>\n",
       "      \n",
       "      <progress value='9' max='965' style='width:300px; height:20px; vertical-align: middle;'></progress>\n",
       "      [  9/965 00:07 < 17:28, 0.91 it/s, Epoch 0.04/5]\n",
       "    </div>\n",
       "    <table border=\"1\" class=\"dataframe\">\n",
       "  <thead>\n",
       " <tr style=\"text-align: left;\">\n",
       "      <th>Step</th>\n",
       "      <th>Training Loss</th>\n",
       "      <th>Validation Loss</th>\n",
       "    </tr>\n",
       "  </thead>\n",
       "  <tbody>\n",
       "  </tbody>\n",
       "</table><p>"
      ],
      "text/plain": [
       "<IPython.core.display.HTML object>"
      ]
     },
     "metadata": {},
     "output_type": "display_data"
    }
   ],
   "source": [
    "# Fine-tuning\n",
    "trainer.train()"
   ]
  },
  {
   "cell_type": "code",
   "execution_count": null,
   "id": "219ae6be",
   "metadata": {},
   "outputs": [],
   "source": []
  }
 ],
 "metadata": {
  "kernelspec": {
   "display_name": ".venv",
   "language": "python",
   "name": "python3"
  },
  "language_info": {
   "codemirror_mode": {
    "name": "ipython",
    "version": 3
   },
   "file_extension": ".py",
   "mimetype": "text/x-python",
   "name": "python",
   "nbconvert_exporter": "python",
   "pygments_lexer": "ipython3",
   "version": "3.9.21"
  }
 },
 "nbformat": 4,
 "nbformat_minor": 5
}
