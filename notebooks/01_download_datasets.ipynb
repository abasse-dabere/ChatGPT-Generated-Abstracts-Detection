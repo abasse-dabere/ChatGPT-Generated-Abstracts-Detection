{
 "cells": [
  {
   "cell_type": "code",
   "execution_count": null,
   "id": "405e5aa7",
   "metadata": {},
   "outputs": [],
   "source": [
    "import os\n",
    "\n",
    "path = \"../data/raw/\"\n",
    "if not os.path.exists(path):\n",
    "    os.makedirs(path)"
   ]
  },
  {
   "cell_type": "code",
   "execution_count": 1,
   "id": "ebd1ac36",
   "metadata": {},
   "outputs": [
    {
     "name": "stdout",
     "output_type": "stream",
     "text": [
      "/users/eleves-a/2021/abasse.dabere/Desktop/ChatGPT-Generated-Abstracts-Detection/data/raw\n"
     ]
    },
    {
     "name": "stderr",
     "output_type": "stream",
     "text": [
      "/users/eleves-a/2021/abasse.dabere/Desktop/ChatGPT-Generated-Abstracts-Detection/.venv/lib64/python3.9/site-packages/IPython/core/magics/osm.py:417: UserWarning: using dhist requires you to install the `pickleshare` library.\n",
      "  self.shell.db['dhist'] = compress_dhist(dhist)[-100:]\n"
     ]
    }
   ],
   "source": [
    "%cd ../data/raw/"
   ]
  },
  {
   "cell_type": "code",
   "execution_count": null,
   "id": "30133659",
   "metadata": {},
   "outputs": [
    {
     "name": "stdout",
     "output_type": "stream",
     "text": [
      "--2025-04-30 12:54:11--  https://raw.githubusercontent.com/botianzhe/CHEAT/main/data/ieee-init.jsonl\n",
      "Resolving raw.githubusercontent.com (raw.githubusercontent.com)... 185.199.109.133, 185.199.108.133, 185.199.110.133, ...\n",
      "Connecting to raw.githubusercontent.com (raw.githubusercontent.com)|185.199.109.133|:443... connected.\n",
      "HTTP request sent, awaiting response... 200 OK\n",
      "Length: 20903142 (20M) [text/plain]\n",
      "Saving to: ‘ieee-init.jsonl’\n",
      "\n",
      "ieee-init.jsonl     100%[===================>]  19.93M  82.7MB/s    in 0.2s    \n",
      "\n",
      "2025-04-30 12:54:12 (82.7 MB/s) - ‘ieee-init.jsonl’ saved [20903142/20903142]\n",
      "\n",
      "--2025-04-30 12:54:12--  https://raw.githubusercontent.com/botianzhe/CHEAT/main/data/ieee-init.xlsx\n",
      "Resolving raw.githubusercontent.com (raw.githubusercontent.com)... 185.199.109.133, 185.199.108.133, 185.199.110.133, ...\n",
      "Connecting to raw.githubusercontent.com (raw.githubusercontent.com)|185.199.109.133|:443... connected.\n",
      "HTTP request sent, awaiting response... 200 OK\n",
      "Length: 7991598 (7.6M) [application/octet-stream]\n",
      "Saving to: ‘ieee-init.xlsx’\n",
      "\n",
      "ieee-init.xlsx      100%[===================>]   7.62M  --.-KB/s    in 0.1s    \n",
      "\n",
      "2025-04-30 12:54:13 (64.6 MB/s) - ‘ieee-init.xlsx’ saved [7991598/7991598]\n",
      "\n",
      "--2025-04-30 12:54:13--  https://raw.githubusercontent.com/botianzhe/CHEAT/main/data/ieee-chatgpt-generation.jsonl\n",
      "Resolving raw.githubusercontent.com (raw.githubusercontent.com)... 185.199.109.133, 185.199.108.133, 185.199.110.133, ...\n",
      "Connecting to raw.githubusercontent.com (raw.githubusercontent.com)|185.199.109.133|:443... connected.\n",
      "HTTP request sent, awaiting response... 200 OK\n",
      "Length: 18490622 (18M) [text/plain]\n",
      "Saving to: ‘ieee-chatgpt-generation.jsonl’\n",
      "\n",
      "ieee-chatgpt-genera 100%[===================>]  17.63M  80.1MB/s    in 0.2s    \n",
      "\n",
      "2025-04-30 12:54:13 (80.1 MB/s) - ‘ieee-chatgpt-generation.jsonl’ saved [18490622/18490622]\n",
      "\n",
      "--2025-04-30 12:54:13--  https://raw.githubusercontent.com/botianzhe/CHEAT/main/data/ieee-chatgpt-generation.xlsx\n",
      "Resolving raw.githubusercontent.com (raw.githubusercontent.com)... 185.199.109.133, 185.199.108.133, 185.199.110.133, ...\n",
      "Connecting to raw.githubusercontent.com (raw.githubusercontent.com)|185.199.109.133|:443... connected.\n",
      "HTTP request sent, awaiting response... 200 OK\n",
      "Length: 6305412 (6.0M) [application/octet-stream]\n",
      "Saving to: ‘ieee-chatgpt-generation.xlsx’\n",
      "\n",
      "ieee-chatgpt-genera 100%[===================>]   6.01M  --.-KB/s    in 0.1s    \n",
      "\n",
      "2025-04-30 12:54:14 (57.9 MB/s) - ‘ieee-chatgpt-generation.xlsx’ saved [6305412/6305412]\n",
      "\n",
      "--2025-04-30 12:54:14--  https://raw.githubusercontent.com/botianzhe/CHEAT/main/data/ieee-chatgpt-polish.jsonl\n",
      "Resolving raw.githubusercontent.com (raw.githubusercontent.com)... 185.199.109.133, 185.199.108.133, 185.199.110.133, ...\n",
      "Connecting to raw.githubusercontent.com (raw.githubusercontent.com)|185.199.109.133|:443... connected.\n",
      "HTTP request sent, awaiting response... 200 OK\n",
      "Length: 21383801 (20M) [text/plain]\n",
      "Saving to: ‘ieee-chatgpt-polish.jsonl’\n",
      "\n",
      "ieee-chatgpt-polish 100%[===================>]  20.39M  90.1MB/s    in 0.2s    \n",
      "\n",
      "2025-04-30 12:54:14 (90.1 MB/s) - ‘ieee-chatgpt-polish.jsonl’ saved [21383801/21383801]\n",
      "\n",
      "--2025-04-30 12:54:15--  https://raw.githubusercontent.com/botianzhe/CHEAT/main/data/ieee-chatgpt-polish.xlsx\n",
      "Resolving raw.githubusercontent.com (raw.githubusercontent.com)... 185.199.109.133, 185.199.108.133, 185.199.110.133, ...\n",
      "Connecting to raw.githubusercontent.com (raw.githubusercontent.com)|185.199.109.133|:443... connected.\n",
      "HTTP request sent, awaiting response... 200 OK\n",
      "Length: 8016038 (7.6M) [application/octet-stream]\n",
      "Saving to: ‘ieee-chatgpt-polish.xlsx’\n",
      "\n",
      "ieee-chatgpt-polish 100%[===================>]   7.64M  --.-KB/s    in 0.1s    \n",
      "\n",
      "2025-04-30 12:54:15 (69.4 MB/s) - ‘ieee-chatgpt-polish.xlsx’ saved [8016038/8016038]\n",
      "\n",
      "--2025-04-30 12:54:15--  https://raw.githubusercontent.com/botianzhe/CHEAT/main/data/ieee-chatgpt-fusion.jsonl\n",
      "Resolving raw.githubusercontent.com (raw.githubusercontent.com)... 185.199.109.133, 185.199.108.133, 185.199.110.133, ...\n",
      "Connecting to raw.githubusercontent.com (raw.githubusercontent.com)|185.199.109.133|:443... connected.\n",
      "HTTP request sent, awaiting response... 200 OK\n",
      "Length: 5720465 (5.5M) [text/plain]\n",
      "Saving to: ‘ieee-chatgpt-fusion.jsonl’\n",
      "\n",
      "ieee-chatgpt-fusion 100%[===================>]   5.46M  --.-KB/s    in 0.09s   \n",
      "\n",
      "2025-04-30 12:54:16 (59.7 MB/s) - ‘ieee-chatgpt-fusion.jsonl’ saved [5720465/5720465]\n",
      "\n",
      "--2025-04-30 12:54:16--  https://raw.githubusercontent.com/botianzhe/CHEAT/main/data/ieee-chatgpt-fusion.xlsx\n",
      "Resolving raw.githubusercontent.com (raw.githubusercontent.com)... 185.199.109.133, 185.199.108.133, 185.199.110.133, ...\n",
      "Connecting to raw.githubusercontent.com (raw.githubusercontent.com)|185.199.109.133|:443... connected.\n",
      "HTTP request sent, awaiting response... 200 OK\n",
      "Length: 2240639 (2.1M) [application/octet-stream]\n",
      "Saving to: ‘ieee-chatgpt-fusion.xlsx’\n",
      "\n",
      "ieee-chatgpt-fusion 100%[===================>]   2.14M  --.-KB/s    in 0.06s   \n",
      "\n",
      "2025-04-30 12:54:16 (34.9 MB/s) - ‘ieee-chatgpt-fusion.xlsx’ saved [2240639/2240639]\n",
      "\n"
     ]
    }
   ],
   "source": [
    "# Initial human abstracts\n",
    "!wget https://raw.githubusercontent.com/botianzhe/CHEAT/main/data/ieee-init.jsonl\n",
    "!wget https://raw.githubusercontent.com/botianzhe/CHEAT/main/data/ieee-init.xlsx\n",
    "\n",
    "# Abstracts fully generated by ChatGPT\n",
    "!wget https://raw.githubusercontent.com/botianzhe/CHEAT/main/data/ieee-chatgpt-generation.jsonl\n",
    "!wget https://raw.githubusercontent.com/botianzhe/CHEAT/main/data/ieee-chatgpt-generation.xlsx\n",
    "\n",
    "# Abstracts polished by ChatGPT\n",
    "!wget https://raw.githubusercontent.com/botianzhe/CHEAT/main/data/ieee-chatgpt-polish.jsonl\n",
    "!wget https://raw.githubusercontent.com/botianzhe/CHEAT/main/data/ieee-chatgpt-polish.xlsx\n",
    "\n",
    "# Mixed abstracts (Fusion)\n",
    "!wget https://raw.githubusercontent.com/botianzhe/CHEAT/main/data/ieee-chatgpt-fusion.jsonl\n",
    "!wget https://raw.githubusercontent.com/botianzhe/CHEAT/main/data/ieee-chatgpt-fusion.xlsx"
   ]
  },
  {
   "cell_type": "code",
   "execution_count": null,
   "id": "a4671c4d",
   "metadata": {},
   "outputs": [],
   "source": []
  }
 ],
 "metadata": {
  "kernelspec": {
   "display_name": ".venv",
   "language": "python",
   "name": "python3"
  },
  "language_info": {
   "codemirror_mode": {
    "name": "ipython",
    "version": 3
   },
   "file_extension": ".py",
   "mimetype": "text/x-python",
   "name": "python",
   "nbconvert_exporter": "python",
   "pygments_lexer": "ipython3",
   "version": "3.9.21"
  }
 },
 "nbformat": 4,
 "nbformat_minor": 5
}
